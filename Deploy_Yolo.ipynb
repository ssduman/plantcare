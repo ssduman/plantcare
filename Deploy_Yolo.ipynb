{
  "nbformat": 4,
  "nbformat_minor": 0,
  "metadata": {
    "colab": {
      "name": "Deploy Yolo.ipynb",
      "provenance": [],
      "collapsed_sections": []
    },
    "kernelspec": {
      "name": "python3",
      "display_name": "Python 3"
    },
    "language_info": {
      "name": "python"
    }
  },
  "cells": [
    {
      "cell_type": "code",
      "metadata": {
        "id": "KUOSvjStyu9_",
        "colab": {
          "base_uri": "https://localhost:8080/"
        },
        "outputId": "451add8d-9582-4bd7-bbcc-28cd69cef707"
      },
      "source": [
        "# clone YOLOv5 repository\n",
        "!git clone https://github.com/ultralytics/yolov5  # clone repo\n",
        "%cd yolov5\n",
        "!git reset --hard 886f1c03d839575afecb059accf74296fad395b6"
      ],
      "execution_count": null,
      "outputs": [
        {
          "output_type": "stream",
          "text": [
            "Cloning into 'yolov5'...\n",
            "remote: Enumerating objects: 6233, done.\u001b[K\n",
            "remote: Counting objects: 100% (27/27), done.\u001b[K\n",
            "remote: Compressing objects: 100% (20/20), done.\u001b[K\n",
            "remote: Total 6233 (delta 10), reused 14 (delta 7), pack-reused 6206\u001b[K\n",
            "Receiving objects: 100% (6233/6233), 8.48 MiB | 24.89 MiB/s, done.\n",
            "Resolving deltas: 100% (4270/4270), done.\n",
            "/content/yolov5\n",
            "HEAD is now at 886f1c0 DDP after autoanchor reorder (#2421)\n"
          ],
          "name": "stdout"
        }
      ]
    },
    {
      "cell_type": "code",
      "metadata": {
        "id": "diXpv21Vy0B6",
        "colab": {
          "base_uri": "https://localhost:8080/"
        },
        "outputId": "9c900492-7c5a-47ad-e570-eabecfa20cd0"
      },
      "source": [
        "# install dependencies as necessary\n",
        "!pip install -qr requirements.txt  # install dependencies (ignore errors)\n",
        "import torch\n",
        "\n",
        "from IPython.display import Image, clear_output  # to display images\n",
        "from utils.google_utils import gdrive_download  # to download models/datasets\n",
        "\n",
        "# clear_output()\n",
        "print('Setup complete. Using torch %s %s' % (torch.__version__, torch.cuda.get_device_properties(0) if torch.cuda.is_available() else 'CPU'))"
      ],
      "execution_count": null,
      "outputs": [
        {
          "output_type": "stream",
          "text": [
            "\u001b[?25l\r\u001b[K     |▌                               | 10kB 21.9MB/s eta 0:00:01\r\u001b[K     |█                               | 20kB 13.6MB/s eta 0:00:01\r\u001b[K     |█▌                              | 30kB 9.5MB/s eta 0:00:01\r\u001b[K     |██                              | 40kB 8.5MB/s eta 0:00:01\r\u001b[K     |██▋                             | 51kB 5.2MB/s eta 0:00:01\r\u001b[K     |███                             | 61kB 5.0MB/s eta 0:00:01\r\u001b[K     |███▋                            | 71kB 5.5MB/s eta 0:00:01\r\u001b[K     |████▏                           | 81kB 6.1MB/s eta 0:00:01\r\u001b[K     |████▋                           | 92kB 6.0MB/s eta 0:00:01\r\u001b[K     |█████▏                          | 102kB 5.0MB/s eta 0:00:01\r\u001b[K     |█████▋                          | 112kB 5.0MB/s eta 0:00:01\r\u001b[K     |██████▏                         | 122kB 5.0MB/s eta 0:00:01\r\u001b[K     |██████▊                         | 133kB 5.0MB/s eta 0:00:01\r\u001b[K     |███████▏                        | 143kB 5.0MB/s eta 0:00:01\r\u001b[K     |███████▊                        | 153kB 5.0MB/s eta 0:00:01\r\u001b[K     |████████▎                       | 163kB 5.0MB/s eta 0:00:01\r\u001b[K     |████████▊                       | 174kB 5.0MB/s eta 0:00:01\r\u001b[K     |█████████▎                      | 184kB 5.0MB/s eta 0:00:01\r\u001b[K     |█████████▉                      | 194kB 5.0MB/s eta 0:00:01\r\u001b[K     |██████████▎                     | 204kB 5.0MB/s eta 0:00:01\r\u001b[K     |██████████▉                     | 215kB 5.0MB/s eta 0:00:01\r\u001b[K     |███████████▎                    | 225kB 5.0MB/s eta 0:00:01\r\u001b[K     |███████████▉                    | 235kB 5.0MB/s eta 0:00:01\r\u001b[K     |████████████▍                   | 245kB 5.0MB/s eta 0:00:01\r\u001b[K     |████████████▉                   | 256kB 5.0MB/s eta 0:00:01\r\u001b[K     |█████████████▍                  | 266kB 5.0MB/s eta 0:00:01\r\u001b[K     |██████████████                  | 276kB 5.0MB/s eta 0:00:01\r\u001b[K     |██████████████▍                 | 286kB 5.0MB/s eta 0:00:01\r\u001b[K     |███████████████                 | 296kB 5.0MB/s eta 0:00:01\r\u001b[K     |███████████████▍                | 307kB 5.0MB/s eta 0:00:01\r\u001b[K     |████████████████                | 317kB 5.0MB/s eta 0:00:01\r\u001b[K     |████████████████▌               | 327kB 5.0MB/s eta 0:00:01\r\u001b[K     |█████████████████               | 337kB 5.0MB/s eta 0:00:01\r\u001b[K     |█████████████████▌              | 348kB 5.0MB/s eta 0:00:01\r\u001b[K     |██████████████████              | 358kB 5.0MB/s eta 0:00:01\r\u001b[K     |██████████████████▌             | 368kB 5.0MB/s eta 0:00:01\r\u001b[K     |███████████████████             | 378kB 5.0MB/s eta 0:00:01\r\u001b[K     |███████████████████▋            | 389kB 5.0MB/s eta 0:00:01\r\u001b[K     |████████████████████            | 399kB 5.0MB/s eta 0:00:01\r\u001b[K     |████████████████████▋           | 409kB 5.0MB/s eta 0:00:01\r\u001b[K     |█████████████████████           | 419kB 5.0MB/s eta 0:00:01\r\u001b[K     |█████████████████████▋          | 430kB 5.0MB/s eta 0:00:01\r\u001b[K     |██████████████████████▏         | 440kB 5.0MB/s eta 0:00:01\r\u001b[K     |██████████████████████▋         | 450kB 5.0MB/s eta 0:00:01\r\u001b[K     |███████████████████████▏        | 460kB 5.0MB/s eta 0:00:01\r\u001b[K     |███████████████████████▊        | 471kB 5.0MB/s eta 0:00:01\r\u001b[K     |████████████████████████▏       | 481kB 5.0MB/s eta 0:00:01\r\u001b[K     |████████████████████████▊       | 491kB 5.0MB/s eta 0:00:01\r\u001b[K     |█████████████████████████▏      | 501kB 5.0MB/s eta 0:00:01\r\u001b[K     |█████████████████████████▊      | 512kB 5.0MB/s eta 0:00:01\r\u001b[K     |██████████████████████████▎     | 522kB 5.0MB/s eta 0:00:01\r\u001b[K     |██████████████████████████▊     | 532kB 5.0MB/s eta 0:00:01\r\u001b[K     |███████████████████████████▎    | 542kB 5.0MB/s eta 0:00:01\r\u001b[K     |███████████████████████████▉    | 552kB 5.0MB/s eta 0:00:01\r\u001b[K     |████████████████████████████▎   | 563kB 5.0MB/s eta 0:00:01\r\u001b[K     |████████████████████████████▉   | 573kB 5.0MB/s eta 0:00:01\r\u001b[K     |█████████████████████████████▍  | 583kB 5.0MB/s eta 0:00:01\r\u001b[K     |█████████████████████████████▉  | 593kB 5.0MB/s eta 0:00:01\r\u001b[K     |██████████████████████████████▍ | 604kB 5.0MB/s eta 0:00:01\r\u001b[K     |██████████████████████████████▉ | 614kB 5.0MB/s eta 0:00:01\r\u001b[K     |███████████████████████████████▍| 624kB 5.0MB/s eta 0:00:01\r\u001b[K     |████████████████████████████████| 634kB 5.0MB/s eta 0:00:01\r\u001b[K     |████████████████████████████████| 645kB 5.0MB/s \n",
            "\u001b[?25hSetup complete. Using torch 1.8.1+cu101 CPU\n"
          ],
          "name": "stdout"
        }
      ]
    },
    {
      "cell_type": "code",
      "metadata": {
        "id": "vAVjBi4Iy1Np"
      },
      "source": [
        "#fotoları 416x416'ya resize et"
      ],
      "execution_count": null,
      "outputs": []
    },
    {
      "cell_type": "code",
      "metadata": {
        "id": "eHHZy04hy2wJ",
        "colab": {
          "base_uri": "https://localhost:8080/"
        },
        "outputId": "973e1911-0c15-4a04-b983-8d6ab4a5092d"
      },
      "source": [
        "#Yolo v5s\n",
        "!python detect.py --weights /content/drive/MyDrive/ObjectDetection/best.pt --img 416 --conf 0.4 --source /content/drive/MyDrive/ObjectDetection/test/images"
      ],
      "execution_count": null,
      "outputs": [
        {
          "output_type": "stream",
          "text": [
            "Namespace(agnostic_nms=False, augment=False, classes=None, conf_thres=0.4, device='', exist_ok=False, img_size=416, iou_thres=0.45, name='exp', project='runs/detect', save_conf=False, save_txt=False, source='/content/drive/MyDrive/ObjectDetection/test/images', update=False, view_img=False, weights=['/content/drive/MyDrive/ObjectDetection/best.pt'])\n",
            "YOLOv5 v4.0-126-g886f1c0 torch 1.8.1+cu101 CPU\n",
            "\n",
            "Fusing layers... \n",
            "Model Summary: 232 layers, 7324731 parameters, 0 gradients, 17.0 GFLOPS\n",
            "image 1/22 /content/drive/MyDrive/ObjectDetection/test/images/0000_jpg.rf.16c2413117fefd281d896f29db7789dc.jpg: 416x416 Done. (0.283s)\n",
            "image 2/22 /content/drive/MyDrive/ObjectDetection/test/images/0008003-strawberry-leaf-veiner-large_jpg.rf.d43d5d18783839215677d9155dce471f.jpg: 416x416 5 Strawberry leafs, Done. (0.195s)\n",
            "image 3/22 /content/drive/MyDrive/ObjectDetection/test/images/0052_jpg.rf.308bfadd743b49c9ba739e4f83d6c946.jpg: 416x416 20 Peach leafs, Done. (0.188s)\n",
            "image 4/22 /content/drive/MyDrive/ObjectDetection/test/images/100_0123_2_jpg.rf.11e7a08133ee5a898ef575aa15c4b787.jpg: 416x416 2 Cherry leafs, Done. (0.194s)\n",
            "image 5/22 /content/drive/MyDrive/ObjectDetection/test/images/128110613-56a6d3633df78cf7729070ad_jpg.rf.f620281626c603ce73e6eb8202d43275.jpg: 416x416 2 Tomato Septoria leaf spots, Done. (0.192s)\n",
            "image 6/22 /content/drive/MyDrive/ObjectDetection/test/images/1534854-a-green-strawberry-leaf-isolated-on-a-white-background_jpg.rf.82b2aca5c9f60581ffad199b30978c3f.jpg: 416x416 3 Strawberry leafs, Done. (0.202s)\n",
            "image 7/22 /content/drive/MyDrive/ObjectDetection/test/images/186116-325x209-Northern-Corn-Leaf-Blight-Chilvers_jpg.rf.f38b92f561239d1850809b9ebfe6939c.jpg: 416x416 1 Corn leaf blight, Done. (0.199s)\n",
            "image 8/22 /content/drive/MyDrive/ObjectDetection/test/images/4120978-single-green-leaf-of-apple-tree_jpg.rf.e33894bbd168d9e09d9283f695dc0bb8.jpg: 416x416 1 Apple leaf, Done. (0.192s)\n",
            "image 9/22 /content/drive/MyDrive/ObjectDetection/test/images/Tomato-Mosaic-1wdr2jx-300x225_jpg.rf.f0e2325f6e421e8b4717e67cd9dbe5a7.jpg: 416x416 Done. (0.188s)\n",
            "image 10/22 /content/drive/MyDrive/ObjectDetection/test/images/Tomato59_JPG_jpg.rf.66c6ae528d889ed81a8c5bc2497b7bff.jpg: 416x416 2 Tomato leaf yellow viruss, Done. (0.188s)\n",
            "image 11/22 /content/drive/MyDrive/ObjectDetection/test/images/Tomato_leaf_01_default.jpg: 416x416 1 Tomato leaf bacterial spot, Done. (0.203s)\n",
            "image 12/22 /content/drive/MyDrive/ObjectDetection/test/images/apple1.png: 320x416 Done. (0.156s)\n",
            "image 13/22 /content/drive/MyDrive/ObjectDetection/test/images/apple2.jpg: 416x288 1 Apple leaf, Done. (0.156s)\n",
            "image 14/22 /content/drive/MyDrive/ObjectDetection/test/images/apple3.jpg: 416x288 1 Apple leaf, Done. (0.135s)\n",
            "image 15/22 /content/drive/MyDrive/ObjectDetection/test/images/corn3.jpg: 320x416 Done. (0.149s)\n",
            "image 16/22 /content/drive/MyDrive/ObjectDetection/test/images/corn4.jpg: 256x416 Done. (0.133s)\n",
            "image 17/22 /content/drive/MyDrive/ObjectDetection/test/images/leaf-blueberry-15281271_jpg.rf.34401544d3a0e8b4694161d621ef65ca.jpg: 416x416 4 Blueberry leafs, 4 Soyabean leafs, Done. (0.197s)\n",
            "image 18/22 /content/drive/MyDrive/ObjectDetection/test/images/potato1.jpg: 320x416 1 Apple leaf, Done. (0.146s)\n",
            "image 19/22 /content/drive/MyDrive/ObjectDetection/test/images/potato2.jpg: 320x416 4 Apple leafs, Done. (0.146s)\n",
            "image 20/22 /content/drive/MyDrive/ObjectDetection/test/images/potato4.jpg: 320x416 2 Bell_pepper leaf spots, Done. (0.157s)\n",
            "image 21/22 /content/drive/MyDrive/ObjectDetection/test/images/potato5.jpg: 288x416 2 Cherry leafs, Done. (0.141s)\n",
            "image 22/22 /content/drive/MyDrive/ObjectDetection/test/images/strawberry.jpg: 416x416 3 Strawberry leafs, Done. (0.186s)\n",
            "Results saved to runs/detect/exp2\n",
            "Done. (10.368s)\n"
          ],
          "name": "stdout"
        }
      ]
    },
    {
      "cell_type": "code",
      "metadata": {
        "colab": {
          "base_uri": "https://localhost:8080/"
        },
        "id": "CtIschgyQOcL",
        "outputId": "0c98c888-e19b-44e7-e240-e6ad30cddadc"
      },
      "source": [
        "\n",
        "#Yolo V5M\n",
        "!python detect.py --weights /content/drive/MyDrive/ObjectDetection/yoloV5m/best.pt --img 416 --conf 0.4 --source /content/drive/MyDrive/ObjectDetection/test/images"
      ],
      "execution_count": null,
      "outputs": [
        {
          "output_type": "stream",
          "text": [
            "Namespace(agnostic_nms=False, augment=False, classes=None, conf_thres=0.4, device='', exist_ok=False, img_size=416, iou_thres=0.45, name='exp', project='runs/detect', save_conf=False, save_txt=False, source='/content/drive/MyDrive/ObjectDetection/test/images', update=False, view_img=False, weights=['/content/drive/MyDrive/ObjectDetection/yoloV5m/best.pt'])\n",
            "YOLOv5 v4.0-126-g886f1c0 torch 1.8.1+cu101 CPU\n",
            "\n",
            "Fusing layers... \n",
            "Model Summary: 308 layers, 21154827 parameters, 0 gradients, 50.7 GFLOPS\n",
            "image 1/22 /content/drive/MyDrive/ObjectDetection/test/images/0000_jpg.rf.16c2413117fefd281d896f29db7789dc.jpg: 416x416 3 Bell_pepper leafs, Done. (0.500s)\n",
            "image 2/22 /content/drive/MyDrive/ObjectDetection/test/images/0008003-strawberry-leaf-veiner-large_jpg.rf.d43d5d18783839215677d9155dce471f.jpg: 416x416 5 Strawberry leafs, Done. (0.472s)\n",
            "image 3/22 /content/drive/MyDrive/ObjectDetection/test/images/0052_jpg.rf.308bfadd743b49c9ba739e4f83d6c946.jpg: 416x416 34 Peach leafs, Done. (0.468s)\n",
            "image 4/22 /content/drive/MyDrive/ObjectDetection/test/images/100_0123_2_jpg.rf.11e7a08133ee5a898ef575aa15c4b787.jpg: 416x416 2 Cherry leafs, Done. (0.477s)\n",
            "image 5/22 /content/drive/MyDrive/ObjectDetection/test/images/128110613-56a6d3633df78cf7729070ad_jpg.rf.f620281626c603ce73e6eb8202d43275.jpg: 416x416 2 Tomato Septoria leaf spots, Done. (0.480s)\n",
            "image 6/22 /content/drive/MyDrive/ObjectDetection/test/images/1534854-a-green-strawberry-leaf-isolated-on-a-white-background_jpg.rf.82b2aca5c9f60581ffad199b30978c3f.jpg: 416x416 3 Strawberry leafs, Done. (0.483s)\n",
            "image 7/22 /content/drive/MyDrive/ObjectDetection/test/images/186116-325x209-Northern-Corn-Leaf-Blight-Chilvers_jpg.rf.f38b92f561239d1850809b9ebfe6939c.jpg: 416x416 1 Corn leaf blight, Done. (0.469s)\n",
            "image 8/22 /content/drive/MyDrive/ObjectDetection/test/images/4120978-single-green-leaf-of-apple-tree_jpg.rf.e33894bbd168d9e09d9283f695dc0bb8.jpg: 416x416 1 Apple leaf, Done. (0.468s)\n",
            "image 9/22 /content/drive/MyDrive/ObjectDetection/test/images/Tomato-Mosaic-1wdr2jx-300x225_jpg.rf.f0e2325f6e421e8b4717e67cd9dbe5a7.jpg: 416x416 Done. (0.462s)\n",
            "image 10/22 /content/drive/MyDrive/ObjectDetection/test/images/Tomato59_JPG_jpg.rf.66c6ae528d889ed81a8c5bc2497b7bff.jpg: 416x416 1 Tomato leaf bacterial spot, 1 Tomato leaf yellow virus, Done. (0.461s)\n",
            "image 11/22 /content/drive/MyDrive/ObjectDetection/test/images/Tomato_leaf_01_default.jpg: 416x416 1 Bell_pepper leaf, 1 Tomato leaf bacterial spot, Done. (0.473s)\n",
            "image 12/22 /content/drive/MyDrive/ObjectDetection/test/images/apple1.png: 320x416 Done. (0.377s)\n",
            "image 13/22 /content/drive/MyDrive/ObjectDetection/test/images/apple2.jpg: 416x288 1 Apple leaf, Done. (0.354s)\n",
            "image 14/22 /content/drive/MyDrive/ObjectDetection/test/images/apple3.jpg: 416x288 1 Apple leaf, Done. (0.337s)\n",
            "image 15/22 /content/drive/MyDrive/ObjectDetection/test/images/corn3.jpg: 320x416 4 Corn leaf blights, 1 Peach leaf, Done. (0.363s)\n",
            "image 16/22 /content/drive/MyDrive/ObjectDetection/test/images/corn4.jpg: 256x416 Done. (0.306s)\n",
            "image 17/22 /content/drive/MyDrive/ObjectDetection/test/images/leaf-blueberry-15281271_jpg.rf.34401544d3a0e8b4694161d621ef65ca.jpg: 416x416 8 Blueberry leafs, 1 Soyabean leaf, Done. (0.465s)\n",
            "image 18/22 /content/drive/MyDrive/ObjectDetection/test/images/potato1.jpg: 320x416 1 Soyabean leaf, Done. (0.370s)\n",
            "image 19/22 /content/drive/MyDrive/ObjectDetection/test/images/potato2.jpg: 320x416 4 Apple leafs, Done. (0.372s)\n",
            "image 20/22 /content/drive/MyDrive/ObjectDetection/test/images/potato4.jpg: 320x416 1 Bell_pepper leaf spot, Done. (0.376s)\n",
            "image 21/22 /content/drive/MyDrive/ObjectDetection/test/images/potato5.jpg: 288x416 4 Apple leafs, Done. (0.336s)\n",
            "image 22/22 /content/drive/MyDrive/ObjectDetection/test/images/strawberry.jpg: 416x416 3 Strawberry leafs, Done. (0.462s)\n",
            "Results saved to runs/detect/exp3\n",
            "Done. (9.986s)\n"
          ],
          "name": "stdout"
        }
      ]
    },
    {
      "cell_type": "code",
      "metadata": {
        "id": "Gyl73iZ9Q-nX"
      },
      "source": [
        ""
      ],
      "execution_count": null,
      "outputs": []
    }
  ]
}