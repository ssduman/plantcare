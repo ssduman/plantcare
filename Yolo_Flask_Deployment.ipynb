{
  "nbformat": 4,
  "nbformat_minor": 0,
  "metadata": {
    "colab": {
      "name": "Yolo-Flask Deployment.ipynb",
      "provenance": [],
      "collapsed_sections": []
    },
    "kernelspec": {
      "display_name": "Python 3",
      "name": "python3"
    },
    "language_info": {
      "name": "python"
    },
    "accelerator": "GPU"
  },
  "cells": [
    {
      "cell_type": "code",
      "metadata": {
        "colab": {
          "base_uri": "https://localhost:8080/"
        },
        "id": "XdjL_G24SPhd",
        "outputId": "9956c592-0470-4277-c70a-4e70d569dfc6"
      },
      "source": [
        "from google.colab import drive\n",
        "drive.mount('/content/drive')"
      ],
      "execution_count": 2,
      "outputs": [
        {
          "output_type": "stream",
          "text": [
            "Drive already mounted at /content/drive; to attempt to forcibly remount, call drive.mount(\"/content/drive\", force_remount=True).\n"
          ],
          "name": "stdout"
        }
      ]
    },
    {
      "cell_type": "code",
      "metadata": {
        "colab": {
          "base_uri": "https://localhost:8080/"
        },
        "id": "JfSJFBh-SU_d",
        "outputId": "17225648-6ac5-4ffd-c85b-960ca16d703a"
      },
      "source": [
        "!pip install flask-ngrok"
      ],
      "execution_count": 3,
      "outputs": [
        {
          "output_type": "stream",
          "text": [
            "Collecting flask-ngrok\n",
            "  Downloading https://files.pythonhosted.org/packages/af/6c/f54cb686ad1129e27d125d182f90f52b32f284e6c8df58c1bae54fa1adbc/flask_ngrok-0.0.25-py3-none-any.whl\n",
            "Requirement already satisfied: Flask>=0.8 in /usr/local/lib/python3.7/dist-packages (from flask-ngrok) (1.1.4)\n",
            "Requirement already satisfied: requests in /usr/local/lib/python3.7/dist-packages (from flask-ngrok) (2.23.0)\n",
            "Requirement already satisfied: Jinja2<3.0,>=2.10.1 in /usr/local/lib/python3.7/dist-packages (from Flask>=0.8->flask-ngrok) (2.11.3)\n",
            "Requirement already satisfied: click<8.0,>=5.1 in /usr/local/lib/python3.7/dist-packages (from Flask>=0.8->flask-ngrok) (7.1.2)\n",
            "Requirement already satisfied: Werkzeug<2.0,>=0.15 in /usr/local/lib/python3.7/dist-packages (from Flask>=0.8->flask-ngrok) (1.0.1)\n",
            "Requirement already satisfied: itsdangerous<2.0,>=0.24 in /usr/local/lib/python3.7/dist-packages (from Flask>=0.8->flask-ngrok) (1.1.0)\n",
            "Requirement already satisfied: certifi>=2017.4.17 in /usr/local/lib/python3.7/dist-packages (from requests->flask-ngrok) (2020.12.5)\n",
            "Requirement already satisfied: urllib3!=1.25.0,!=1.25.1,<1.26,>=1.21.1 in /usr/local/lib/python3.7/dist-packages (from requests->flask-ngrok) (1.24.3)\n",
            "Requirement already satisfied: idna<3,>=2.5 in /usr/local/lib/python3.7/dist-packages (from requests->flask-ngrok) (2.10)\n",
            "Requirement already satisfied: chardet<4,>=3.0.2 in /usr/local/lib/python3.7/dist-packages (from requests->flask-ngrok) (3.0.4)\n",
            "Requirement already satisfied: MarkupSafe>=0.23 in /usr/local/lib/python3.7/dist-packages (from Jinja2<3.0,>=2.10.1->Flask>=0.8->flask-ngrok) (2.0.1)\n",
            "Installing collected packages: flask-ngrok\n",
            "Successfully installed flask-ngrok-0.0.25\n"
          ],
          "name": "stdout"
        }
      ]
    },
    {
      "cell_type": "code",
      "metadata": {
        "id": "d1hjI3y5SW68"
      },
      "source": [
        "!mkdir images\n",
        "\n",
        "!mkdir Yolo-images"
      ],
      "execution_count": 4,
      "outputs": []
    },
    {
      "cell_type": "code",
      "metadata": {
        "id": "iW05n4r_CuaJ"
      },
      "source": [
        "# clone YOLOv5 repository\n",
        "!git clone https://github.com/ultralytics/yolov5  # clone repo\n",
        "# install dependencies as necessary\n",
        "!pip install -r yolov5/requirements.txt  # install dependencies\n",
        "\n",
        "%cd yolov5"
      ],
      "execution_count": null,
      "outputs": []
    },
    {
      "cell_type": "code",
      "metadata": {
        "id": "dR-VvVrzC1R_"
      },
      "source": [
        ""
      ],
      "execution_count": 5,
      "outputs": []
    },
    {
      "cell_type": "code",
      "metadata": {
        "id": "2KhfcyoyC6z_"
      },
      "source": [
        ""
      ],
      "execution_count": 5,
      "outputs": []
    },
    {
      "cell_type": "code",
      "metadata": {
        "id": "c-PUFzYUC62e"
      },
      "source": [
        ""
      ],
      "execution_count": 5,
      "outputs": []
    },
    {
      "cell_type": "code",
      "metadata": {
        "id": "5arM255PC641"
      },
      "source": [
        ""
      ],
      "execution_count": 5,
      "outputs": []
    },
    {
      "cell_type": "code",
      "metadata": {
        "colab": {
          "base_uri": "https://localhost:8080/"
        },
        "id": "QKxt1ITSSmLs",
        "outputId": "ce17ba6b-4fab-4a20-9296-539445145084"
      },
      "source": [
        "\n",
        "import torch\n",
        "\n",
        "from IPython.display import Image, clear_output  # to display images\n",
        "from utils.google_utils import gdrive_download  # to download models/datasets\n",
        "\n",
        "# clear_output()\n",
        "print('Setup complete. Using torch %s %s' % (torch.__version__, torch.cuda.get_device_properties(0) if torch.cuda.is_available() else 'CPU'))"
      ],
      "execution_count": 6,
      "outputs": [
        {
          "output_type": "stream",
          "text": [
            "Setup complete. Using torch 1.8.1+cu101 _CudaDeviceProperties(name='Tesla T4', major=7, minor=5, total_memory=15109MB, multi_processor_count=40)\n"
          ],
          "name": "stdout"
        }
      ]
    },
    {
      "cell_type": "code",
      "metadata": {
        "id": "QAdyJRy3SW9N"
      },
      "source": [
        "import os\n",
        "from flask_ngrok import run_with_ngrok\n",
        "from flask import Flask, flash, request, redirect, url_for\n",
        "from werkzeug.utils import secure_filename\n",
        "\n",
        "UPLOAD_FOLDER = '/content/images'\n",
        "BLURRED_FOLDER = '/content/Yolo-images'\n",
        "\n",
        "ALLOWED_EXTENSIONS = {'txt', 'pdf', 'png', 'jpg', 'mp4','avi','jpeg', 'gif'}\n",
        "\n",
        "app = Flask(__name__, static_folder='static')\n",
        "app.config['SESSION_TYPE'] = 'memcached'\n",
        "app.config['SECRET_KEY'] = 'super secret key'\n",
        "run_with_ngrok(app)   #starts ngrok when the app is run\n",
        "\n",
        "app.config['UPLOAD_FOLDER'] = UPLOAD_FOLDER\n",
        "expIndex = 0"
      ],
      "execution_count": 7,
      "outputs": []
    },
    {
      "cell_type": "code",
      "metadata": {
        "id": "AXx63eS4Kkvh"
      },
      "source": [
        ""
      ],
      "execution_count": 7,
      "outputs": []
    },
    {
      "cell_type": "code",
      "metadata": {
        "id": "ivwqyclQScCm"
      },
      "source": [
        "import cv2\n",
        "import numpy as np\n",
        "import time\n",
        "import sys\n",
        "from google.colab.patches import cv2_imshow\n",
        "\n",
        "\n",
        "@app.route('/upload/yolo', methods=['GET', 'POST'])\n",
        "def upload_file_alphas():\n",
        "    if request.method == 'POST':\n",
        "        # check if the post request has the file part\n",
        "        if 'file' not in request.files:\n",
        "            flash('No file part')\n",
        "            return redirect(request.url)\n",
        "        file = request.files['file']\n",
        "        # if user does not select file, browser also\n",
        "        # submit an empty part without filename\n",
        "        if file.filename == '':\n",
        "            flash('No selected file')\n",
        "            return redirect(request.url)\n",
        "        if file and allowed_file(file.filename):\n",
        "            filename = secure_filename(file.filename)\n",
        "            file.save(os.path.join(app.config['UPLOAD_FOLDER'], filename))\n",
        "            path_l = os.path.join(app.config['UPLOAD_FOLDER'], filename)\n",
        "            global expIndex\n",
        "            expIndex = expIndex+1\n",
        "            !python detect.py --weights /content/drive/MyDrive/ObjectDetection/yoloV5l/best.pt --img 416 --conf 0.4 --source $path_l \n",
        "            return redirect(url_for('yolo_image',\n",
        "                                    filename=filename))\n",
        "        \n",
        "    return '''\n",
        "    <!doctype html>\n",
        "    <title>Upload new File</title>\n",
        "    <h1>Upload new File</h1>\n",
        "    <form method=post enctype=multipart/form-data>\n",
        "      <input type=file name=file>\n",
        "      <input type=submit value=Upload>\n",
        "    </form>\n",
        "    '''"
      ],
      "execution_count": 8,
      "outputs": []
    },
    {
      "cell_type": "code",
      "metadata": {
        "id": "5-qRnAMiSeVz"
      },
      "source": [
        "@app.route(\"/\")\n",
        "def home():\n",
        "    return \"<h1>Running Rehabsoft Vision on Google Colab!</h1>\"\n",
        "\n",
        "\n",
        "def allowed_file(filename):\n",
        "    return '.' in filename and \\\n",
        "           filename.rsplit('.', 1)[1].lower() in ALLOWED_EXTENSIONS\n",
        "\n",
        "\n",
        "\n"
      ],
      "execution_count": 9,
      "outputs": []
    },
    {
      "cell_type": "code",
      "metadata": {
        "id": "rS5jJTHFSeu5"
      },
      "source": [
        "from flask import send_from_directory\n",
        "\n",
        "\n",
        "\n",
        "@app.route('/yolo/result//<filename>')\n",
        "def yolo_image(filename):\n",
        "    global expIndex  \n",
        "    if(expIndex<2):\n",
        "        output_path = \"/content/yolov5/runs/detect/exp\" \n",
        "    else:\n",
        "        output_path = \"/content/yolov5/runs/detect/exp\" + str(expIndex) \n",
        "    print(output_path)\n",
        "    return send_from_directory(output_path, filename)"
      ],
      "execution_count": 10,
      "outputs": []
    },
    {
      "cell_type": "code",
      "metadata": {
        "colab": {
          "base_uri": "https://localhost:8080/"
        },
        "id": "5gybzKdGSW_c",
        "outputId": "85e30ef6-3fc2-4b65-c118-abb4d3cccb93"
      },
      "source": [
        "\n",
        "app.run()"
      ],
      "execution_count": 11,
      "outputs": [
        {
          "output_type": "stream",
          "text": [
            " * Serving Flask app \"__main__\" (lazy loading)\n",
            " * Environment: production\n",
            "\u001b[31m   WARNING: This is a development server. Do not use it in a production deployment.\u001b[0m\n",
            "\u001b[2m   Use a production WSGI server instead.\u001b[0m\n",
            " * Debug mode: off\n"
          ],
          "name": "stdout"
        },
        {
          "output_type": "stream",
          "text": [
            " * Running on http://127.0.0.1:5000/ (Press CTRL+C to quit)\n"
          ],
          "name": "stderr"
        },
        {
          "output_type": "stream",
          "text": [
            " * Running on http://9c516d609390.ngrok.io\n",
            " * Traffic stats available on http://127.0.0.1:4040\n"
          ],
          "name": "stdout"
        },
        {
          "output_type": "stream",
          "text": [
            "127.0.0.1 - - [11/Jun/2021 22:55:53] \"\u001b[37mGET / HTTP/1.1\u001b[0m\" 200 -\n",
            "127.0.0.1 - - [11/Jun/2021 22:55:53] \"\u001b[33mGET /favicon.ico HTTP/1.1\u001b[0m\" 404 -\n",
            "127.0.0.1 - - [11/Jun/2021 22:56:00] \"\u001b[37mGET /upload/yolo HTTP/1.1\u001b[0m\" 200 -\n",
            "127.0.0.1 - - [11/Jun/2021 22:56:01] \"\u001b[33mGET /favicon.ico HTTP/1.1\u001b[0m\" 404 -\n"
          ],
          "name": "stderr"
        },
        {
          "output_type": "stream",
          "text": [
            "Namespace(agnostic_nms=False, augment=False, classes=None, conf_thres=0.4, device='', exist_ok=False, half=False, hide_conf=False, hide_labels=False, imgsz=416, iou_thres=0.45, line_thickness=3, max_det=1000, name='exp', nosave=False, project='runs/detect', save_conf=False, save_crop=False, save_txt=False, source='/content/images/zassd.jpg', update=False, view_img=False, weights=['/content/drive/MyDrive/ObjectDetection/yoloV5l/best.pt'])\n",
            "YOLOv5 🚀 v5.0-181-g4984cf5 torch 1.8.1+cu101 CUDA:0 (Tesla T4, 15109.75MB)\n",
            "\n",
            "Fusing layers... \n",
            "Model Summary: 308 layers, 21154827 parameters, 0 gradients\n",
            "image 1/1 /content/images/zassd.jpg: 416x416 3 Bell_pepper leafs, Done. (0.081s)\n",
            "Results saved to runs/detect/exp\n",
            "Done. (0.149s)\n"
          ],
          "name": "stdout"
        },
        {
          "output_type": "stream",
          "text": [
            "127.0.0.1 - - [11/Jun/2021 22:56:20] \"\u001b[32mPOST /upload/yolo HTTP/1.1\u001b[0m\" 302 -\n",
            "127.0.0.1 - - [11/Jun/2021 22:56:20] \"\u001b[37mGET /yolo/result/zassd.jpg HTTP/1.1\u001b[0m\" 200 -\n"
          ],
          "name": "stderr"
        },
        {
          "output_type": "stream",
          "text": [
            "/content/yolov5/runs/detect/exp\n"
          ],
          "name": "stdout"
        },
        {
          "output_type": "stream",
          "text": [
            "127.0.0.1 - - [11/Jun/2021 22:56:26] \"\u001b[37mGET /upload/yolo HTTP/1.1\u001b[0m\" 200 -\n"
          ],
          "name": "stderr"
        },
        {
          "output_type": "stream",
          "text": [
            "Namespace(agnostic_nms=False, augment=False, classes=None, conf_thres=0.4, device='', exist_ok=False, half=False, hide_conf=False, hide_labels=False, imgsz=416, iou_thres=0.45, line_thickness=3, max_det=1000, name='exp', nosave=False, project='runs/detect', save_conf=False, save_crop=False, save_txt=False, source='/content/images/5020Leafmold20Top_jpg.rf.29a941a9c4a999749afc0a94a90b71dd.jpg', update=False, view_img=False, weights=['/content/drive/MyDrive/ObjectDetection/yoloV5l/best.pt'])\n",
            "YOLOv5 🚀 v5.0-181-g4984cf5 torch 1.8.1+cu101 CUDA:0 (Tesla T4, 15109.75MB)\n",
            "\n",
            "Fusing layers... \n",
            "Model Summary: 308 layers, 21154827 parameters, 0 gradients\n",
            "image 1/1 /content/images/5020Leafmold20Top_jpg.rf.29a941a9c4a999749afc0a94a90b71dd.jpg: 416x416 1 Tomato mold leaf, Done. (0.021s)\n",
            "Results saved to runs/detect/exp2\n",
            "Done. (0.029s)\n"
          ],
          "name": "stdout"
        },
        {
          "output_type": "stream",
          "text": [
            "127.0.0.1 - - [11/Jun/2021 22:56:44] \"\u001b[32mPOST /upload/yolo HTTP/1.1\u001b[0m\" 302 -\n",
            "127.0.0.1 - - [11/Jun/2021 22:56:44] \"\u001b[37mGET /yolo/result/5020Leafmold20Top_jpg.rf.29a941a9c4a999749afc0a94a90b71dd.jpg HTTP/1.1\u001b[0m\" 200 -\n"
          ],
          "name": "stderr"
        },
        {
          "output_type": "stream",
          "text": [
            "/content/yolov5/runs/detect/exp2\n"
          ],
          "name": "stdout"
        },
        {
          "output_type": "stream",
          "text": [
            "127.0.0.1 - - [11/Jun/2021 22:56:47] \"\u001b[37mGET /upload/yolo HTTP/1.1\u001b[0m\" 200 -\n"
          ],
          "name": "stderr"
        },
        {
          "output_type": "stream",
          "text": [
            "Namespace(agnostic_nms=False, augment=False, classes=None, conf_thres=0.4, device='', exist_ok=False, half=False, hide_conf=False, hide_labels=False, imgsz=416, iou_thres=0.45, line_thickness=3, max_det=1000, name='exp', nosave=False, project='runs/detect', save_conf=False, save_crop=False, save_txt=False, source='/content/images/leaves-of-raspberry-stock-picture-2529053_jpg.rf.a90e5533d45aa55cd41512ff4c5b9659.jpg', update=False, view_img=False, weights=['/content/drive/MyDrive/ObjectDetection/yoloV5l/best.pt'])\n",
            "YOLOv5 🚀 v5.0-181-g4984cf5 torch 1.8.1+cu101 CUDA:0 (Tesla T4, 15109.75MB)\n",
            "\n",
            "Fusing layers... \n",
            "Model Summary: 308 layers, 21154827 parameters, 0 gradients\n",
            "image 1/1 /content/images/leaves-of-raspberry-stock-picture-2529053_jpg.rf.a90e5533d45aa55cd41512ff4c5b9659.jpg: 416x416 3 Raspberry leafs, Done. (0.021s)\n",
            "Results saved to runs/detect/exp3\n",
            "Done. (0.030s)\n"
          ],
          "name": "stdout"
        },
        {
          "output_type": "stream",
          "text": [
            "127.0.0.1 - - [11/Jun/2021 22:57:06] \"\u001b[32mPOST /upload/yolo HTTP/1.1\u001b[0m\" 302 -\n",
            "127.0.0.1 - - [11/Jun/2021 22:57:06] \"\u001b[37mGET /yolo/result/leaves-of-raspberry-stock-picture-2529053_jpg.rf.a90e5533d45aa55cd41512ff4c5b9659.jpg HTTP/1.1\u001b[0m\" 200 -\n"
          ],
          "name": "stderr"
        },
        {
          "output_type": "stream",
          "text": [
            "/content/yolov5/runs/detect/exp3\n"
          ],
          "name": "stdout"
        }
      ]
    },
    {
      "cell_type": "code",
      "metadata": {
        "id": "2KNIFyT2SXDA"
      },
      "source": [
        ""
      ],
      "execution_count": 10,
      "outputs": []
    }
  ]
}